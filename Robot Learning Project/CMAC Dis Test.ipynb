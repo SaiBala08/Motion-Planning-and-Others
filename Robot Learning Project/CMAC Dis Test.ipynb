{
 "cells": [
  {
   "cell_type": "code",
   "execution_count": null,
   "metadata": {},
   "outputs": [],
   "source": [
    "import numpy as np\n",
    "import matplotlib.pyplot as plt\n",
    "import pandas as pd\n",
    "\n",
    "\n",
    "x = np.arange(0, 6.28, 0.01)\n",
    "y = np.sin(x)\n",
    "\n",
    "train = np.arange(0,6.28,0.02)\n",
    "#print(train)\n",
    "#train=x\n",
    "#test = np.arange(2,5,2)\n",
    "test=x\n",
    "\n",
    "weight_vector=x*0\n",
    "#print (weight_vector)\n",
    "weight_vector=np.append([0],weight_vector)\n",
    "weight_vector=np.append(weight_vector,[0])\n",
    "\n",
    "\n",
    "before=current=after=None\n",
    "l = len(weight_vector)\n",
    "\n",
    "error_threshold = 0.2\n",
    "\n",
    "#training the data\n",
    "count=100\n",
    "while count>0:\n",
    "\n",
    "        for i in range (1,len(train)):\n",
    "        \n",
    "               if i<(len(train)):\n",
    "                \n",
    "                        m=2*i\n",
    "                        n=2*i+1\n",
    "                        o=2*i+2\n",
    "                        before = weight_vector[(m)]\n",
    "                        current = weight_vector[n]\n",
    "                        after = weight_vector[o]\n",
    "                        \n",
    "                        y_yield=before+current+after\n",
    "\n",
    "                        y_error=y[m]-y_yield\n",
    "                        \n",
    "                        y_error_corrected=(y_error/3)\n",
    "                        #print ('y_error_corrected=',y_error_corrected)\n",
    "                        weight_vector[m]=y_error_corrected\n",
    "                        weight_vector[n]=y_error_corrected\n",
    "                        weight_vector[o]=y_error_corrected\n",
    "                        #print (weight_vector)\n",
    "                        count=count-1\n",
    "error_threshold=y_error\t\n",
    "\n",
    "print (weight_vector)\n",
    "\t\n",
    "# testing the data\n",
    "\n",
    "for k in range (1,628):\n",
    "\n",
    "    y_output=weight_vector[k]+weight_vector[k+1]+weight_vector[k+2]\n",
    "    #print (y_output)\n",
    "\t\n",
    "    plt.plot(test[k], y_output,marker='_', markersize=1, color=\"blue\")\n",
    "\t\n",
    "plt.show()"
   ]
  },
  {
   "cell_type": "code",
   "execution_count": 37,
   "metadata": {},
   "outputs": [
    {
     "data": {
      "text/plain": [
       "628"
      ]
     },
     "execution_count": 37,
     "metadata": {},
     "output_type": "execute_result"
    }
   ],
   "source": [
    "len(test)"
   ]
  },
  {
   "cell_type": "code",
   "execution_count": 39,
   "metadata": {},
   "outputs": [
    {
     "data": {
      "text/plain": [
       "630"
      ]
     },
     "execution_count": 39,
     "metadata": {},
     "output_type": "execute_result"
    }
   ],
   "source": [
    "len(weight_vector)"
   ]
  },
  {
   "cell_type": "code",
   "execution_count": null,
   "metadata": {},
   "outputs": [],
   "source": []
  }
 ],
 "metadata": {
  "kernelspec": {
   "display_name": "Python 3",
   "language": "python",
   "name": "python3"
  },
  "language_info": {
   "codemirror_mode": {
    "name": "ipython",
    "version": 3
   },
   "file_extension": ".py",
   "mimetype": "text/x-python",
   "name": "python",
   "nbconvert_exporter": "python",
   "pygments_lexer": "ipython3",
   "version": "3.6.5"
  }
 },
 "nbformat": 4,
 "nbformat_minor": 2
}
