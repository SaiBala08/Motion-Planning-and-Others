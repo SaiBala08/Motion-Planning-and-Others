{
 "cells": [
  {
   "cell_type": "code",
   "execution_count": 1,
   "metadata": {},
   "outputs": [],
   "source": [
    "import numpy as np\n",
    "import matplotlib.pyplot as plt\n",
    "import pandas as pd\n",
    "import random"
   ]
  },
  {
   "cell_type": "code",
   "execution_count": 2,
   "metadata": {},
   "outputs": [
    {
     "data": {
      "image/png": "[encoded data removed]",
      "text/plain": [
       "<Figure size 432x288 with 1 Axes>"
      ]
     },
     "metadata": {},
     "output_type": "display_data"
    },
    {
     "data": {
      "text/plain": [
       "101"
      ]
     },
     "execution_count": 2,
     "metadata": {},
     "output_type": "execute_result"
    }
   ],
   "source": [
    "x = np.arange(0, 6.28, 0.0628)\n",
    "y = np.sin(x)\n",
    "plt.plot(x, y)\n",
    "plt.show()\n",
    "len(x)\n",
    "\n",
    "#print(y)"
   ]
  },
  {
   "cell_type": "code",
   "execution_count": 3,
   "metadata": {},
   "outputs": [
    {
     "name": "stdout",
     "output_type": "stream",
     "text": [
      "[0.22 0.73 0.94 0.72 0.75 0.69 0.67 0.93 0.   0.88 0.61 0.15 0.32 0.35\n",
      " 0.87 0.17 0.7  0.84 0.71 0.42 0.55 0.6  0.63 0.65 0.52 0.07 0.21 0.2\n",
      " 0.44 0.13 0.76 0.91 0.8  0.56 0.08 0.81 0.39 0.4  0.01 0.62 0.51 0.57\n",
      " 0.05 0.49 0.92 0.48 0.95 0.3  0.78 0.43 0.14 0.24 0.86 0.41 0.09 0.9\n",
      " 0.25 0.54 0.02 0.37 0.27 0.06 0.16 0.12 0.47 0.36 0.31 0.66 0.5  0.83]\n",
      "[0.38 0.74 0.59 0.45 0.18 0.28 0.79 0.53 0.26 0.77 0.34 0.33 0.03 0.98\n",
      " 0.04 0.99 0.89 0.46 0.19 0.68 0.64 0.1  0.23 0.85 0.97 0.96 0.11 0.29\n",
      " 1.   0.82]\n"
     ]
    }
   ],
   "source": [
    "random.shuffle(x)\n",
    "train_data = x[0:70]\n",
    "x_n = train_data/6.28\n",
    "print(x_n)\n",
    "test_data = x[71:101]\n",
    "xt_n = test_data/6.28\n",
    "print(xt_n)\n",
    "\n",
    "#print(train_data,len(train_data))\n",
    "#print(test_data,len(test_data))"
   ]
  },
  {
   "cell_type": "code",
   "execution_count": 9,
   "metadata": {},
   "outputs": [],
   "source": [
    "w_vector=np.zeros(35)\n",
    "w_vector=np.append([0],w_vector)\n",
    "w_vector=np.append(w_vector,[0])\n",
    "\n",
    "error_thres = 0.2\n",
    "\n",
    "before=current=after=None\n",
    "\n",
    "while error_thres>-0.0001:\n",
    "    \n",
    "    for i in range(0,35):\n",
    "        \n",
    "        for j in range(0,len(train_data)):\n",
    "            \n",
    "            q = int(np.round(x_n[j]*35))\n",
    "            \n",
    "            if q in range(0,70,2):\n",
    "                \n",
    "                a = q-1\n",
    "                b = q\n",
    "                c = q+1\n",
    "                before = w_vector[a]\n",
    "                current = w_vector[b]\n",
    "                after = w_vector[c]\n",
    "                y_sum = (before+current+after)\n",
    "                #print('y_sum=',y_sum)\n",
    "\n",
    "                y_error = np.sin(x_n[j]*6.28)-y_sum\n",
    "                #print('y[n]',np.sin(x_n[j]*6.28))\n",
    "                #print('y_error=',y_error)\n",
    "                y_error_corrected=(y_error/3)\n",
    "\n",
    "                w_vector[a]=(y_error_corrected)+(w_vector[a])\n",
    "                w_vector[b]=(y_error_corrected)+(w_vector[b])\n",
    "                w_vector[c]=(y_error_corrected)+(w_vector[c])\n",
    "                #print(weight_vector)\n",
    "                \n",
    "            elif q in range(1,71,2):\n",
    "                \n",
    "                a = q-1\n",
    "                b = q\n",
    "                c = q+1\n",
    "                before = w_vector[a]*0.8\n",
    "                current = w_vector[b]\n",
    "                after = w_vector[c]*1.2\n",
    "                y_sum = (before+current+after)\n",
    "                #print('y_sum=',y_sum)\n",
    "\n",
    "                y_error = np.sin(x_n[j]*6.28)-y_sum\n",
    "                #print('y[n]',np.sin(x_n[j]*6.28))\n",
    "                #print('y_error=',y_error)\n",
    "                y_error_corrected=(y_error/3)\n",
    "\n",
    "                w_vector[a]=(y_error_corrected)+(w_vector[a])\n",
    "                w_vector[b]=(y_error_corrected)+(w_vector[b])\n",
    "                w_vector[c]=(y_error_corrected)+(w_vector[c])\n",
    "                #print(weight_vector)\n",
    "            \n",
    "    error_threshold=y_error\n",
    "   "
   ]
  },
  {
   "cell_type": "code",
   "execution_count": 20,
   "metadata": {},
   "outputs": [
    {
     "data": {
      "image/png": "[encoded data removed]",
      "text/plain": [
       "<Figure size 432x288 with 1 Axes>"
      ]
     },
     "metadata": {},
     "output_type": "display_data"
    }
   ],
   "source": [
    "for k in range (1,len(test_data)):\n",
    "    \n",
    "    t = int(np.round(xt_n[k]*35))\n",
    "    \n",
    "    y_output=(weight_vector[t-1]*0.8 + weight_vector[t] + weight_vector[t+1]*1.2)\n",
    "    #print (y_output)\n",
    "\n",
    "    plt.plot(test_data[k], y_output,marker='.', markersize=3, color=\"blue\")\n",
    "\n",
    "\n",
    "plt.show()"
   ]
  },
  {
   "cell_type": "code",
   "execution_count": null,
   "metadata": {},
   "outputs": [],
   "source": []
  }
 ],
 "metadata": {
  "kernelspec": {
   "display_name": "Python 3",
   "language": "python",
   "name": "python3"
  },
  "language_info": {
   "codemirror_mode": {
    "name": "ipython",
    "version": 3
   },
   "file_extension": ".py",
   "mimetype": "text/x-python",
   "name": "python",
   "nbconvert_exporter": "python",
   "pygments_lexer": "ipython3",
   "version": "3.6.5"
  }
 },
 "nbformat": 4,
 "nbformat_minor": 2
}
