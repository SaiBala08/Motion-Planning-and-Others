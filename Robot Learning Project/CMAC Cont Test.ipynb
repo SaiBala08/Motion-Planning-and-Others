{
 "cells": [
  {
   "cell_type": "code",
   "execution_count": 1,
   "metadata": {},
   "outputs": [
    {
     "data": {
      "text/plain": [
       "<Figure size 640x480 with 1 Axes>"
      ]
     },
     "metadata": {},
     "output_type": "display_data"
    }
   ],
   "source": [
    "import numpy as np\n",
    "import matplotlib.pyplot as plt\n",
    "import pandas as pd\n",
    "\n",
    "\n",
    "x = np.arange(0, 6.28, 0.001)\n",
    "y = np.sin(x)\n",
    "#plt.plot(x, y)\n",
    "#plt.show()\n",
    "\n",
    "\n",
    "\n",
    "#Splitting the data points\n",
    "\n",
    "train = np.arange(0,6.28,0.002)\n",
    "#train=x\n",
    "#test = np.arange(2,5,2)\n",
    "test=train+0.01\n",
    "\n",
    "#print (train)\n",
    "#print (test)\n",
    "wv=[0]\n",
    "weight_vector=x*0\n",
    "#print (weight_vector)\n",
    "weight_vector=np.append([0],weight_vector)\n",
    "weight_vector=np.append(weight_vector,[0])\n",
    "#weight_vector=weight_vector.append(0)\n",
    "\n",
    "before=current=after=None\n",
    "l = len(weight_vector)\n",
    "\n",
    "error_threshold = 0.2\n",
    "s=np.zeros(6282)\n",
    "#training the data\n",
    "count=np.zeros(3140)\n",
    "while error_threshold>-0.0001:\n",
    "\n",
    "        for i in range (1,len(train)):\n",
    "\n",
    "               if i<len(train):\n",
    "                        m=2*i\n",
    "                        n=2*i+1\n",
    "                        o=2*i+2\n",
    "                        before = weight_vector[(m)]*0.8\n",
    "                        current = weight_vector[n]\n",
    "                        after = weight_vector[o]*0.2\n",
    "                        \n",
    "                        y_yield=before+current+after\n",
    "                        \n",
    "                        y_error=y[m]-y_yield\n",
    "                        \n",
    "                        y_error_corrected=(y_error/3)\n",
    "                        #print ('y_error_corrected=',y_error_corrected)\n",
    "                        weight_vector[m]=(y_error_corrected)+(weight_vector[m])\n",
    "                        weight_vector[n]=y_error_corrected+(weight_vector[n])\n",
    "                        weight_vector[o]=(y_error_corrected)+(weight_vector[o])\n",
    "                        #print (weight_vector)\n",
    "                        count[i]=i+1\n",
    "                        s[i]=y_error\n",
    "\n",
    "        error_threshold=y_error\n",
    "\n",
    "\n",
    "# testing the data\n",
    "\n",
    "y_output=np.zeros(3140)\n",
    "test_error1=np.zeros(3140)\n",
    "test_error2=np.zeros(6282)\n",
    "for k in range (1,len(test)):\n",
    "\n",
    "    y_output[k]=weight_vector[2*k]*(0.8)+weight_vector[2*k+1]+weight_vector[2*k+2]*(0.2)\n",
    "    test_error1[k]=test[k]-y_output[k]\n",
    "    test_error2[2*k]=test[k]-y_output[k]\n",
    "\n",
    "\n",
    "plt.plot(test, y_output)\n",
    "plt.show()"
   ]
  },
  {
   "cell_type": "code",
   "execution_count": null,
   "metadata": {},
   "outputs": [],
   "source": []
  }
 ],
 "metadata": {
  "kernelspec": {
   "display_name": "Python 3",
   "language": "python",
   "name": "python3"
  },
  "language_info": {
   "codemirror_mode": {
    "name": "ipython",
    "version": 3
   },
   "file_extension": ".py",
   "mimetype": "text/x-python",
   "name": "python",
   "nbconvert_exporter": "python",
   "pygments_lexer": "ipython3",
   "version": "3.6.5"
  }
 },
 "nbformat": 4,
 "nbformat_minor": 2
}
