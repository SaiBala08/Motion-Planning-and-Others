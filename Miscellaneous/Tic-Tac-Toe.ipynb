{
 "cells": [
  {
   "cell_type": "code",
   "execution_count": 1,
   "metadata": {},
   "outputs": [],
   "source": [
    "from IPython.display import clear_output\n",
    "\n",
    "def display_board(board):\n",
    "    \n",
    "    clear_output()\n",
    "    \n",
    "    print(test_board[7]+'|'+test_board[8]+'|'+test_board[9])\n",
    "    print(test_board[4]+'|'+test_board[5]+'|'+test_board[6])\n",
    "    print(test_board[1]+'|'+test_board[2]+'|'+test_board[3])"
   ]
  },
  {
   "cell_type": "code",
   "execution_count": 2,
   "metadata": {},
   "outputs": [
    {
     "name": "stdout",
     "output_type": "stream",
     "text": [
      " | | \n",
      " | | \n",
      " | | \n"
     ]
    }
   ],
   "source": [
    "test_board = [' ']*10\n",
    "display_board(test_board)"
   ]
  },
  {
   "cell_type": "code",
   "execution_count": 3,
   "metadata": {},
   "outputs": [],
   "source": [
    "def player_input():\n",
    "    \n",
    "    P1_marker = ''\n",
    "    P2_marker = ''\n",
    "    \n",
    "    while P1_marker not in ('x','o'):\n",
    "        P1_marker = input(\"Please pick a marker 'X' or 'O'.\").lower()\n",
    "        \n",
    "    if P1_marker == 'x':\n",
    "        P2_marker = 'o'\n",
    "        return ('X','O')\n",
    "    else:\n",
    "        P2_marker = 'x'\n",
    "        return ('O','X')\n",
    "        \n",
    "    print(f\"player1 has choose {P1_marker} and so player2 is {P2_marker}\")\n",
    "    print('You are now ready to play')"
   ]
  },
  {
   "cell_type": "code",
   "execution_count": 4,
   "metadata": {},
   "outputs": [],
   "source": [
    "def place_marker(board,marker,position):\n",
    "    \n",
    "    board[position] = marker"
   ]
  },
  {
   "cell_type": "code",
   "execution_count": 5,
   "metadata": {},
   "outputs": [],
   "source": [
    "def win_check(board, mark):\n",
    "    \n",
    "    if test_board[1] == test_board[2] ==  test_board[3] == mark:\n",
    "        return mark    \n",
    "    elif test_board[4] == test_board[5] ==  test_board[6] == mark:\n",
    "        return mark \n",
    "    elif test_board[7] ==  test_board[8] ==  test_board[9] == mark:\n",
    "        return mark \n",
    "    elif test_board[1] ==  test_board[4] ==  test_board[7] == mark:\n",
    "        return mark \n",
    "    elif test_board[2] ==  test_board[5] ==  test_board[8] == mark:\n",
    "        return mark \n",
    "    elif test_board[3] ==  test_board[6] ==  test_board[9] == mark:\n",
    "        return mark \n",
    "    elif test_board[1] ==  test_board[5] ==  test_board[9] == mark:\n",
    "        return mark \n",
    "    elif test_board[7] ==  test_board[5] ==  test_board[3] == mark:\n",
    "        return mark \n",
    "    else:\n",
    "        return ''"
   ]
  },
  {
   "cell_type": "code",
   "execution_count": 6,
   "metadata": {},
   "outputs": [],
   "source": [
    "import random\n",
    "\n",
    "def choose_first():\n",
    "    return random.choice(['player1','player2'])"
   ]
  },
  {
   "cell_type": "code",
   "execution_count": 7,
   "metadata": {},
   "outputs": [],
   "source": [
    "def space_check(board,position):\n",
    "    \n",
    "    if board[position] != ' ':\n",
    "        print(\"The position is already occupied\")\n",
    "        return False\n",
    "    else:\n",
    "        return True"
   ]
  },
  {
   "cell_type": "code",
   "execution_count": 8,
   "metadata": {},
   "outputs": [],
   "source": [
    "def full_board_check(board):\n",
    "    \n",
    "    b = 0\n",
    "    \n",
    "    for x in board[1:]:\n",
    "        if x == ' ':\n",
    "            b += 1\n",
    "        \n",
    "    if b == 0:\n",
    "        return True\n",
    "    else:\n",
    "        return False"
   ]
  },
  {
   "cell_type": "code",
   "execution_count": 9,
   "metadata": {},
   "outputs": [],
   "source": [
    "def player_choice(board):\n",
    "    \n",
    "    position = 0\n",
    "    \n",
    "    while position not in range(1,10):\n",
    "        position = int(input('please provide your move from 1-9:'))\n",
    "    \n",
    "        if space_check(board,position):\n",
    "            return position\n",
    "        else:\n",
    "            print(\"Try another move\")\n",
    "            position = 0\n",
    "            continue"
   ]
  },
  {
   "cell_type": "code",
   "execution_count": 10,
   "metadata": {},
   "outputs": [],
   "source": [
    "def replay():\n",
    "    \n",
    "    replay_input = input(\"Do you want to play again. Say yes or no: \")\n",
    "    \n",
    "    while replay_input == 'yes' or replay_input == 'no':\n",
    "        if replay_input == 'yes':\n",
    "            return True\n",
    "        elif replay_input == 'no':\n",
    "            return False"
   ]
  },
  {
   "cell_type": "code",
   "execution_count": null,
   "metadata": {},
   "outputs": [],
   "source": []
  }
 ],
 "metadata": {
  "kernelspec": {
   "display_name": "Python 3",
   "language": "python",
   "name": "python3"
  },
  "language_info": {
   "codemirror_mode": {
    "name": "ipython",
    "version": 3
   },
   "file_extension": ".py",
   "mimetype": "text/x-python",
   "name": "python",
   "nbconvert_exporter": "python",
   "pygments_lexer": "ipython3",
   "version": "3.6.5"
  }
 },
 "nbformat": 4,
 "nbformat_minor": 2
}
