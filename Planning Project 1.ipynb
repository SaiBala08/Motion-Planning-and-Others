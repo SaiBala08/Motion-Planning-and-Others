{
 "cells": [
  {
   "cell_type": "code",
   "execution_count": 1,
   "metadata": {},
   "outputs": [],
   "source": [
    "from IPython.display import clear_output\n",
    "import random\n",
    "import numpy as np\n",
    "import collections\n",
    "import os\n",
    "\n",
    "\n",
    "def display_board(board):\n",
    "    \n",
    "    print(board[0][0]+'|'+board[0][1]+'|'+board[0][2])\n",
    "    print(board[1][0]+'|'+board[1][1]+'|'+board[1][2])\n",
    "    print(board[2][0]+'|'+board[2][1]+'|'+board[2][2])\n",
    "    "
   ]
  },
  {
   "cell_type": "code",
   "execution_count": 2,
   "metadata": {},
   "outputs": [],
   "source": [
    "def find_location(board,x):\n",
    "    for i in range(0,3):\n",
    "        for j in range(0,3):\n",
    "            if board[i][j] == x:\n",
    "                return (i,j)"
   ]
  },
  {
   "cell_type": "code",
   "execution_count": 3,
   "metadata": {},
   "outputs": [],
   "source": [
    "def find_adjacent(board):\n",
    "    L = []\n",
    "    x,y = find_location(board,' ')\n",
    "    \n",
    "    x1 = x -1\n",
    "    x2 = x + 1\n",
    "    y1 = y - 1\n",
    "    y2 = y + 1\n",
    "    \n",
    "    p = list(range(0,3))\n",
    "    \n",
    "    if x1 in p:\n",
    "        L.append((x1,y))\n",
    "    \n",
    "    if x2 in p:\n",
    "        L.append((x2,y))\n",
    "        \n",
    "    if y1 in p:\n",
    "        L.append((x,y1))\n",
    "        \n",
    "    if y2 in p:\n",
    "        L.append((x,y2))\n",
    "        \n",
    "    \n",
    "    return L"
   ]
  },
  {
   "cell_type": "code",
   "execution_count": 4,
   "metadata": {},
   "outputs": [],
   "source": [
    "def swap(node,A,B):\n",
    "    d_board = node.child.copy()\n",
    "    d_board[A], d_board[B] = d_board[B], d_board[A]\n",
    "    \n",
    "    new = Node(d_board,node)\n",
    "    return new"
   ]
  },
  {
   "cell_type": "code",
   "execution_count": 5,
   "metadata": {},
   "outputs": [],
   "source": [
    "def shuffle(board):\n",
    "    for i in range(1000):\n",
    "        A = find_adjacent(board)\n",
    "        Q = find_location(board,' ')\n",
    "        R = random.choice(A)\n",
    "        board = swap(Node(board),R,Q).child\n",
    "    return board"
   ]
  },
  {
   "cell_type": "code",
   "execution_count": 6,
   "metadata": {},
   "outputs": [],
   "source": [
    "def check_solve(board):\n",
    "    \n",
    "    if board[0][0]+board[0][1]+board[0][2]+board[1][0]+board[1][1]+board[1][2]+board[2][0]+board[2][1]+board[2][2] == '12345678 ' :\n",
    "        return True\n",
    "    else : \n",
    "        return False"
   ]
  },
  {
   "cell_type": "code",
   "execution_count": 7,
   "metadata": {},
   "outputs": [],
   "source": [
    "class Node:\n",
    "\n",
    "    def __init__(self, child, parent=None):\n",
    "        self.child = child\n",
    "        self.parent = parent\n",
    "\n",
    "    @property \n",
    "    def path(self):\n",
    "        node, p = self, []\n",
    "        \n",
    "        while node:\n",
    "            p.reverse()\n",
    "            p.append(node.child)\n",
    "            p.reverse()\n",
    "            node = node.parent\n",
    "        \n",
    "        writeFilesP(p)\n",
    "        p.reverse()\n",
    "        n = 1\n",
    "        while p:\n",
    "            L = p.pop()\n",
    "            if check_solve(L):\n",
    "                print('Goal Node')\n",
    "                display_board(L)\n",
    "            else :\n",
    "                print('Parent Node',n)\n",
    "                display_board(L)\n",
    "                print('\\n')\n",
    "                n = n+1\n",
    "                     "
   ]
  },
  {
   "cell_type": "code",
   "execution_count": 8,
   "metadata": {},
   "outputs": [],
   "source": [
    "def solve(board):\n",
    "    \n",
    "    new = Node(board)\n",
    "    print('Starting Board')\n",
    "    display_board(board)\n",
    "    print('\\n')\n",
    "    \n",
    "    queue = collections.deque([new])\n",
    "    seen  = set()\n",
    "    seen.add(str((queue[0])))\n",
    "    \n",
    "    while queue:\n",
    "            \n",
    "        node = queue.pop()\n",
    "        if check_solve(node.child):\n",
    "            print(\"*Board Solved*\")\n",
    "            print('\\n')\n",
    "            print(\"*Here is the Node Path*\")\n",
    "            #display_board(node.child)\n",
    "            writeFilesN(seen)\n",
    "            return node.path\n",
    "            \n",
    "        A = find_adjacent(node.child)\n",
    "        Q = find_location(node.child,' ')\n",
    "\n",
    "        for i in A:\n",
    "            child = swap(node,i,Q)\n",
    "\n",
    "            if str(child.child) not in seen:\n",
    "                queue.appendleft(child)\n",
    "                seen.add(str((child.child)))\n",
    "    \n",
    "    print('Program Ended')\n",
    "                "
   ]
  },
  {
   "cell_type": "code",
   "execution_count": 9,
   "metadata": {},
   "outputs": [],
   "source": [
    " def writeFilesP(NodePath):\n",
    "    op_file2 = open('./OutputFiles/NodePath.txt','w+')\n",
    "\n",
    "    for i in range(len(NodePath)):\n",
    "        for j in (NodePath[i].flatten()):\n",
    "            op_file2.write(str(j)+'\\t')\n",
    "        op_file2.write('\\n')\n",
    "    op_file2.close()\n",
    "    return"
   ]
  },
  {
   "cell_type": "code",
   "execution_count": 10,
   "metadata": {},
   "outputs": [],
   "source": [
    "def writeFilesN(AllNodes):\n",
    "    \n",
    "    op_file1 = open('./OutputFiles/AllNodes.txt','w+')\n",
    "    for i in range(len(AllNodes)):\n",
    "        for j in ((AllNodes.pop())):\n",
    "            if j in ('1','2','3','4','5','6','7','8',' '):\n",
    "                op_file1.write(j+'\\t')\n",
    "        op_file1.write('\\n')\n",
    "        op_file1.write('-----------------------------''\\t')\n",
    "        op_file1.write('\\n')\n",
    "    op_file1.close()\n",
    "    "
   ]
  },
  {
   "cell_type": "code",
   "execution_count": 11,
   "metadata": {},
   "outputs": [
    {
     "name": "stdout",
     "output_type": "stream",
     "text": [
      "8|7|6\n",
      "2|5|4\n",
      "3| |1\n"
     ]
    }
   ],
   "source": [
    "test_board = ['8' , '7' , '6' , '2' , '5' , '4' , '3' , ' ' , '1'] #[8 7 6; 2 5 4; 3 0 1]\n",
    "l = np.array(test_board).reshape(3,3)\n",
    "#l = shuffle(l)\n",
    "display_board(l)\n"
   ]
  },
  {
   "cell_type": "code",
   "execution_count": 12,
   "metadata": {
    "scrolled": true
   },
   "outputs": [
    {
     "name": "stdout",
     "output_type": "stream",
     "text": [
      "Starting Board\n",
      "8|7|6\n",
      "2|5|4\n",
      "3| |1\n",
      "\n",
      "\n",
      "Program Ended\n"
     ]
    }
   ],
   "source": [
    "solve(l)\n"
   ]
  },
  {
   "cell_type": "code",
   "execution_count": null,
   "metadata": {},
   "outputs": [],
   "source": []
  }
 ],
 "metadata": {
  "kernelspec": {
   "display_name": "Python 3",
   "language": "python",
   "name": "python3"
  },
  "language_info": {
   "codemirror_mode": {
    "name": "ipython",
    "version": 3
   },
   "file_extension": ".py",
   "mimetype": "text/x-python",
   "name": "python",
   "nbconvert_exporter": "python",
   "pygments_lexer": "ipython3",
   "version": "3.6.5"
  }
 },
 "nbformat": 4,
 "nbformat_minor": 2
}
