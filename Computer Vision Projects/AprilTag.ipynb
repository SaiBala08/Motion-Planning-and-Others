{
 "cells": [
  {
   "cell_type": "code",
   "execution_count": null,
   "metadata": {},
   "outputs": [
    {
     "name": "stdout",
     "output_type": "stream",
     "text": [
      "(1600, 1200, 3)\n",
      "[Detection(tag_family=b'tag36h11', tag_id=0, hamming=0, goodness=0.0, decision_margin=88.31944274902344, homography=array([[ 7.33152272e-01, -3.13330788e-02,  4.13898168e+00],\n",
      "       [ 4.57232221e-02,  6.73078951e-01,  6.11526284e+00],\n",
      "       [ 4.39812627e-05, -3.90129185e-05,  7.28626368e-03]]), center=array([568.05268917, 839.28651324]), corners=array([[472.05371094, 741.14019775],\n",
      "       [665.3949585 , 744.70281982],\n",
      "       [663.9208374 , 937.29907227],\n",
      "       [468.46731567, 936.04974365]]))]\n"
     ]
    }
   ],
   "source": [
    "import apriltag\n",
    "import cv2\n",
    "\n",
    "img = cv2.imread('1234.jpeg')\n",
    "print(img.shape)\n",
    "gray = cv2.cvtColor(img, cv2.COLOR_BGR2GRAY)\n",
    "\n",
    "# options = apriltag.Detectoroptions(families='tag36h11',\n",
    "#                                  border=1,\n",
    "#                                  nthreads=4,\n",
    "#                                  quad_decimate=1.0,\n",
    "#                                  quad_blur=0.0,\n",
    "#                                  refine_edges=True,\n",
    "#                                  refine_decode=False,\n",
    "#                                  refine_pose=False,\n",
    "#                                  debug=False,\n",
    "#                                  quad_contours=True)\n",
    "\n",
    "detector = apriltag.Detector()\n",
    "result = detector.detect(gray)\n",
    "\n",
    "print(result)\n",
    "tf = result[0].tag_family\n",
    "cx = result[0].center[0]\n",
    "#corners = result[1].corners\n",
    "#print(tf)\n",
    "#print(cx)\n",
    "#print(corners)\n",
    "#x = 0\n",
    "for j in result:\n",
    "    #print(result[x])\n",
    "    #x = x+1\n",
    "    for i in j.corners:\n",
    "        x,y = i\n",
    "        x = round(x)\n",
    "        y = round(y)\n",
    "        img = cv2.circle(img,(int(x),int(y)), 3, (0,0,255), -1)\n",
    "cv2.imshow('1234.jpeg', img)\n",
    "cv2.waitKey(0)\n",
    "cv2.destroyAllWindows"
   ]
  },
  {
   "cell_type": "code",
   "execution_count": null,
   "metadata": {},
   "outputs": [],
   "source": []
  },
  {
   "cell_type": "code",
   "execution_count": null,
   "metadata": {},
   "outputs": [],
   "source": []
  }
 ],
 "metadata": {
  "kernelspec": {
   "display_name": "Python 3",
   "language": "python",
   "name": "python3"
  },
  "language_info": {
   "codemirror_mode": {
    "name": "ipython",
    "version": 3
   },
   "file_extension": ".py",
   "mimetype": "text/x-python",
   "name": "python",
   "nbconvert_exporter": "python",
   "pygments_lexer": "ipython3",
   "version": "3.6.5"
  }
 },
 "nbformat": 4,
 "nbformat_minor": 2
}
