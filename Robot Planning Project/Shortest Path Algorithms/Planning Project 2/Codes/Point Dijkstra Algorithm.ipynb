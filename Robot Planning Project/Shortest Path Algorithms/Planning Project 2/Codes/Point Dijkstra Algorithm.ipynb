{
 "cells": [
  {
   "cell_type": "code",
   "execution_count": 1,
   "metadata": {},
   "outputs": [
    {
     "name": "stdout",
     "output_type": "stream",
     "text": [
      "(601, 1001, 3)\n"
     ]
    },
    {
     "data": {
      "text/plain": [
       "True"
      ]
     },
     "execution_count": 1,
     "metadata": {},
     "output_type": "execute_result"
    }
   ],
   "source": [
    "import cv2\n",
    "import numpy \n",
    "import copy\n",
    "import collections\n",
    "\n",
    "img_size = [601,1001]\n",
    "img = numpy.zeros([601,1001,3])\n",
    "print(img.shape)\n",
    "\n",
    "img[:,:,0] = numpy.ones(img_size)*240.0\n",
    "img[:,:,1] = numpy.ones(img_size)*240.0\n",
    "img[:,:,2] = numpy.ones(img_size)*240.0\n",
    "\n",
    "img = cv2.circle(img,(2*380,2*260), 30, (0,0,0), -1)\n",
    "img = cv2.rectangle(img,(2*100,2*225),(2*200,2*135),(0,0,0),-1)\n",
    "img = cv2.ellipse(img,(2*280,2*240),(2*30,2*12),0,0,359,(0,0,0),-1)\n",
    "\n",
    "pts = numpy.array([[2*250, 2*112],[2*326,2*104], [2*340, 2*180], [2*384, 2*104],[2*346,2*30],[2*300,2*30]], numpy.int32)\n",
    "img = cv2.fillPoly(img,[pts],(0,0,0))\n",
    "\n",
    "for x in range(0,150):\n",
    "    for y in range(0,250):\n",
    "        for channel in range(3):\n",
    "            res = img[4*x:4*(x+1),4*y:4*(y+1),channel].sum()\n",
    "            if res != 3840:\n",
    "                img[4*x:4*(x+1),4*y:4*(y+1),channel] = 0#([ [0,0,0,0], [0,0,0,0], [0,0,0,0], [0,0,0,0] ])\n",
    "            \n",
    "\n",
    "img = cv2.flip( img, 0 )\n",
    "cv2.imwrite('Robot_Map.jpg', img)"
   ]
  },
  {
   "cell_type": "code",
   "execution_count": 3,
   "metadata": {},
   "outputs": [],
   "source": [
    "def Take_Starting_Node():\n",
    "    \n",
    "    img = cv2.imread('Robot_Map.jpg')\n",
    "    gx = 4*140\n",
    "    gy = 4*120\n",
    "    while img[600-gy][gx][0] != 240:\n",
    "        X = ((input(\"Give a Starting Node x in range(0,250) and y in range(0,150)   \")).split(','))\n",
    "        #print(X)\n",
    "        gx = 4*int(X[0])\n",
    "        gy = 4*int(X[1])\n",
    "    \n",
    "        #gx,gy = Goal_Node\n",
    "        if img[600-gy][gx][0] == 240:\n",
    "            print('Given Starting Node is acceptable')\n",
    "            img = cv2.rectangle(img,(gx,600-(gy + 3)),(gx+3,600-gy),(0,0,255),-1)\n",
    "\n",
    "            cv2.imwrite('Robot_Map.jpg', img)\n",
    "            break\n",
    "        else:\n",
    "            print('Given Node is in Obstacle Space, please give a new node')\n",
    "          \n",
    "    return(int(X[0]),int(X[1]))\n"
   ]
  },
  {
   "cell_type": "code",
   "execution_count": 4,
   "metadata": {},
   "outputs": [],
   "source": [
    "def Take_Goal_Node():\n",
    "    img = cv2.imread('Robot_Map.jpg')\n",
    "    \n",
    "    gx = 4*140\n",
    "    gy = 4*120\n",
    "    while img[600-gy][gx][0] != 240:\n",
    "        X = ((input(\"Give a Goal Node x in range(0,250) and y in range(0,150)   \")).split(','))\n",
    "        #print(X)\n",
    "        gx = 4*int(X[0])\n",
    "        gy = 4*int(X[1])\n",
    "        \n",
    "#         Goal_Node = (600-gy,gx)\n",
    "    \n",
    "        if img[600-gy][gx][0] in range(237,243):\n",
    "            print('Given Goal Node is acceptable')\n",
    "            img = cv2.rectangle(img,(gx,600-(gy + 3)),(gx+3,600-gy),(0,255,0),-1)\n",
    "\n",
    "            cv2.imwrite('Robot_Map.jpg', img)\n",
    "            break\n",
    "        else:\n",
    "            print(img[600-gy][gx])\n",
    "            print('Given Node is in Obstacle Space, please give a new node')\n",
    "     \n",
    "    return(int(X[0]),int(X[1]))"
   ]
  },
  {
   "cell_type": "code",
   "execution_count": 6,
   "metadata": {},
   "outputs": [],
   "source": [
    "def Mark_Read(x,y):\n",
    "    \n",
    "    x = 4*x\n",
    "    y = 4*y\n",
    "    img = cv2.imread('Robot_Map.jpg')\n",
    "    img = cv2.rectangle(img,(x,600-(y + 2)),(x+2,600-y),(100,100,100),-1)\n",
    "    cv2.imwrite('Robot_Map.jpg', img)\n",
    "    cv2.imshow('Robot_Map.jpg', img)"
   ]
  },
  {
   "cell_type": "code",
   "execution_count": 7,
   "metadata": {},
   "outputs": [],
   "source": [
    "class Node:\n",
    "\n",
    "    def __init__(self, child, parent=None,cost = 999999):\n",
    "        self.child = child\n",
    "        self.parent = parent\n",
    "        self.cost = cost\n",
    "                     "
   ]
  },
  {
   "cell_type": "code",
   "execution_count": 8,
   "metadata": {},
   "outputs": [],
   "source": [
    "def Node_Actions(node):\n",
    "    \n",
    "    (i,j) = node\n",
    "    directions = {'R':((i+1, j),1),\n",
    "                  'L':((i-1, j),1),\n",
    "                  'D':((i, j-1),1),\n",
    "                  'U':((i, j+1),1),\n",
    "                  'RU':((i+1,j+1),1.414),\n",
    "                  'RD':((i+1,j-1),1.414),\n",
    "                  'LU':((i-1,j+1),1.414),\n",
    "                  'LD':((i-1,j-1),1.414)}\n",
    "    #print(directions)\n",
    "    \n",
    "    valid_direc = {}\n",
    "    for i in directions.items():\n",
    "        d,((x,y),action_cost) = i\n",
    "        if x in range(0,251) and y in range(0,151):\n",
    "            X = 4*x\n",
    "            Y = 4*y\n",
    "            if img[600-Y][X][0] == 240:\n",
    "                valid_direc.update({i})\n",
    "    \n",
    "    return(valid_direc)\n",
    "#     for i in valid_direc.items():\n",
    "#         print(i)\n",
    "    "
   ]
  },
  {
   "cell_type": "code",
   "execution_count": 9,
   "metadata": {},
   "outputs": [],
   "source": [
    "def Solve_Dijkstra(Start,Goal):\n",
    "    \n",
    "    start_node = Node(Start,None,0)\n",
    "    #Goal_Node = Node(Goal)\n",
    "    flag = True\n",
    "    queue = collections.deque([start_node])\n",
    "    seen  = {}\n",
    "    seen[str((queue[0].child))] = start_node\n",
    "    \n",
    "    while queue and flag:\n",
    "            \n",
    "        node = queue.pop()\n",
    "            \n",
    "        A = Node_Actions(node.child)\n",
    "\n",
    "        for i in A.items():\n",
    "            d,((x,y),action_cost) = i\n",
    "            #new_node = Node((x,y))\n",
    "            \n",
    "            if str((x,y)) not in seen and (x,y) == Goal:\n",
    "                \n",
    "                new_node = Node((x,y))\n",
    "                Goal_Node = Node((x,y))\n",
    "                Goal_Node.parent = node\n",
    "                new_node.cost = node.cost + action_cost\n",
    "                flag = False\n",
    "        \n",
    "            if str((x,y)) not in seen:\n",
    "                new_node = Node((x,y))\n",
    "                \n",
    "                queue.appendleft(new_node)\n",
    "                seen[(str(new_node.child))]=new_node\n",
    "                \n",
    "                new_node.parent = node\n",
    "                new_node.cost = node.cost + action_cost\n",
    "                #print(new_node.cost,(x,y))\n",
    "                \n",
    "                if new_node.child != Goal:\n",
    "                    m,n = new_node.child\n",
    "                    Mark_Read(m,n)\n",
    "                    cv2.waitKey(1)\n",
    "                \n",
    "            else:\n",
    "                if seen[str((x,y))].cost > node.cost + action_cost:\n",
    "                    seen[str((x,y))].cost = node.cost + action_cost\n",
    "                    seen[str((x,y))].parent = node\n",
    "        \n",
    "    \n",
    "    while Goal_Node.child != Start and Goal_Node.parent:\n",
    "        Goal_Node = Goal_Node.parent\n",
    "        p,q = Goal_Node.child\n",
    "        P = 4*p\n",
    "        Q = 4*q\n",
    "        if (p,q) != Start:\n",
    "            img = cv2.imread('Robot_Map.jpg')\n",
    "            img = cv2.rectangle(img,(P,600-(Q + 2)),(P+2,600-Q),(255,255,255),-1)\n",
    "            cv2.imwrite('Robot_Map.jpg', img)\n",
    "            cv2.imshow('Robot_Map.jpg', img)\n",
    "            cv2.waitKey(1)\n",
    "    \n",
    "    cv2.waitKey(0)\n",
    "    cv2.destroyAllWindows\n",
    "                     "
   ]
  },
  {
   "cell_type": "code",
   "execution_count": 10,
   "metadata": {},
   "outputs": [
    {
     "name": "stdout",
     "output_type": "stream",
     "text": [
      "Give a Starting Node x in range(0,250) and y in range(0,150)   10,10\n",
      "Given Starting Node is acceptable\n",
      "Give a Goal Node x in range(0,250) and y in range(0,150)   50,50\n",
      "Given Goal Node is acceptable\n"
     ]
    }
   ],
   "source": [
    "Start = Take_Starting_Node()\n",
    "Goal = Take_Goal_Node()"
   ]
  },
  {
   "cell_type": "code",
   "execution_count": null,
   "metadata": {
    "scrolled": false
   },
   "outputs": [],
   "source": [
    "Solve_Dijkstra(Start,Goal)"
   ]
  },
  {
   "cell_type": "code",
   "execution_count": null,
   "metadata": {},
   "outputs": [],
   "source": []
  }
 ],
 "metadata": {
  "kernelspec": {
   "display_name": "Python 3",
   "language": "python",
   "name": "python3"
  },
  "language_info": {
   "codemirror_mode": {
    "name": "ipython",
    "version": 3
   },
   "file_extension": ".py",
   "mimetype": "text/x-python",
   "name": "python",
   "nbconvert_exporter": "python",
   "pygments_lexer": "ipython3",
   "version": "3.6.5"
  }
 },
 "nbformat": 4,
 "nbformat_minor": 2
}
